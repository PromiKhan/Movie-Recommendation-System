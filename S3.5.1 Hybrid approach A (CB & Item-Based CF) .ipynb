{
 "cells": [
  {
   "cell_type": "markdown",
   "metadata": {},
   "source": [
    "#### A Hybrid Recommendation model has been created\n",
    "#### using the content based and collaborative item-based filtering"
   ]
  },
  {
   "cell_type": "code",
   "execution_count": 1,
   "metadata": {},
   "outputs": [],
   "source": [
    "# Importing all the necessary libraries\n",
    "import numpy as np\n",
    "import pandas as pd\n",
    "from sklearn.metrics import mean_squared_error\n",
    "from sklearn import metrics\n",
    "from math import sqrt\n",
    "from sklearn.metrics import mean_squared_error\n",
    "from sklearn.metrics import mean_absolute_error"
   ]
  },
  {
   "cell_type": "code",
   "execution_count": 2,
   "metadata": {},
   "outputs": [],
   "source": [
    "# Importing the csv data files \n",
    "content_df_test = pd.read_csv('predicted_content_based_test_df.csv',error_bad_lines=False, warn_bad_lines=True)\n",
    "content_df_train = pd.read_csv('train_predict_content_df.csv',error_bad_lines=False, warn_bad_lines=True)\n",
    "\n",
    "coll_item_df_test = pd.read_csv('test_df_cf_item.csv',error_bad_lines=False, warn_bad_lines=True)\n",
    "coll_item_df_train = pd.read_csv('train_df_cf_item.csv',error_bad_lines=False, warn_bad_lines=True)"
   ]
  },
  {
   "cell_type": "code",
   "execution_count": 3,
   "metadata": {},
   "outputs": [],
   "source": [
    "# Defining the dataframe and storing the predictions from the two models\n",
    "df_train = pd.DataFrame()\n",
    "df_train['content_train'] = content_df_train['prediction']\n",
    "df_train['collab_train'] = coll_item_df_train['predicted_rating']\n",
    "df_train['rating'] = coll_item_df_train['rating']\n",
    "df_train = df_train.dropna()\n",
    "\n",
    "df_test = pd.DataFrame()\n",
    "df_test['content_test'] = content_df_test['predict']\n",
    "df_test['collab_test'] = coll_item_df_test['predicted_rating']\n",
    "df_test['rating'] = coll_item_df_test['rating']\n",
    "df_test = df_test.dropna()\n",
    "\n",
    "x_train = df_train.drop('rating', axis=1).values\n",
    "x_test = df_test.drop('rating', axis=1).values\n",
    "y_train= df_train['rating'].values\n",
    "y_test = df_test['rating'].values"
   ]
  },
  {
   "cell_type": "markdown",
   "metadata": {},
   "source": [
    "### Randomforest Regressor model"
   ]
  },
  {
   "cell_type": "code",
   "execution_count": 4,
   "metadata": {},
   "outputs": [
    {
     "name": "stdout",
     "output_type": "stream",
     "text": [
      "Fitting 5 folds for each of 10 candidates, totalling 50 fits\n",
      "[CV] n_estimators=10, min_samples_split=100, max_leaf_nodes=7, max_depth=7 \n",
      "[CV]  n_estimators=10, min_samples_split=100, max_leaf_nodes=7, max_depth=7, score=0.486, total=   0.1s\n",
      "[CV] n_estimators=10, min_samples_split=100, max_leaf_nodes=7, max_depth=7 \n"
     ]
    },
    {
     "name": "stderr",
     "output_type": "stream",
     "text": [
      "[Parallel(n_jobs=1)]: Using backend SequentialBackend with 1 concurrent workers.\n",
      "[Parallel(n_jobs=1)]: Done   1 out of   1 | elapsed:    0.0s remaining:    0.0s\n"
     ]
    },
    {
     "name": "stdout",
     "output_type": "stream",
     "text": [
      "[CV]  n_estimators=10, min_samples_split=100, max_leaf_nodes=7, max_depth=7, score=0.436, total=   0.2s\n",
      "[CV] n_estimators=10, min_samples_split=100, max_leaf_nodes=7, max_depth=7 \n",
      "[CV]  n_estimators=10, min_samples_split=100, max_leaf_nodes=7, max_depth=7, score=0.542, total=   0.1s\n",
      "[CV] n_estimators=10, min_samples_split=100, max_leaf_nodes=7, max_depth=7 \n"
     ]
    },
    {
     "name": "stderr",
     "output_type": "stream",
     "text": [
      "[Parallel(n_jobs=1)]: Done   2 out of   2 | elapsed:    0.2s remaining:    0.0s\n"
     ]
    },
    {
     "name": "stdout",
     "output_type": "stream",
     "text": [
      "[CV]  n_estimators=10, min_samples_split=100, max_leaf_nodes=7, max_depth=7, score=0.522, total=   0.2s\n",
      "[CV] n_estimators=10, min_samples_split=100, max_leaf_nodes=7, max_depth=7 \n",
      "[CV]  n_estimators=10, min_samples_split=100, max_leaf_nodes=7, max_depth=7, score=0.489, total=   0.1s\n",
      "[CV] n_estimators=10, min_samples_split=300, max_leaf_nodes=7, max_depth=7 \n",
      "[CV]  n_estimators=10, min_samples_split=300, max_leaf_nodes=7, max_depth=7, score=0.486, total=   0.1s\n",
      "[CV] n_estimators=10, min_samples_split=300, max_leaf_nodes=7, max_depth=7 \n",
      "[CV]  n_estimators=10, min_samples_split=300, max_leaf_nodes=7, max_depth=7, score=0.436, total=   0.1s\n",
      "[CV] n_estimators=10, min_samples_split=300, max_leaf_nodes=7, max_depth=7 \n",
      "[CV]  n_estimators=10, min_samples_split=300, max_leaf_nodes=7, max_depth=7, score=0.542, total=   0.2s\n",
      "[CV] n_estimators=10, min_samples_split=300, max_leaf_nodes=7, max_depth=7 \n",
      "[CV]  n_estimators=10, min_samples_split=300, max_leaf_nodes=7, max_depth=7, score=0.522, total=   0.1s\n",
      "[CV] n_estimators=10, min_samples_split=300, max_leaf_nodes=7, max_depth=7 \n",
      "[CV]  n_estimators=10, min_samples_split=300, max_leaf_nodes=7, max_depth=7, score=0.489, total=   0.1s\n",
      "[CV] n_estimators=7, min_samples_split=300, max_leaf_nodes=7, max_depth=6 \n",
      "[CV]  n_estimators=7, min_samples_split=300, max_leaf_nodes=7, max_depth=6, score=0.487, total=   0.1s\n",
      "[CV] n_estimators=7, min_samples_split=300, max_leaf_nodes=7, max_depth=6 \n",
      "[CV]  n_estimators=7, min_samples_split=300, max_leaf_nodes=7, max_depth=6, score=0.435, total=   0.1s\n",
      "[CV] n_estimators=7, min_samples_split=300, max_leaf_nodes=7, max_depth=6 \n",
      "[CV]  n_estimators=7, min_samples_split=300, max_leaf_nodes=7, max_depth=6, score=0.542, total=   0.1s\n",
      "[CV] n_estimators=7, min_samples_split=300, max_leaf_nodes=7, max_depth=6 \n",
      "[CV]  n_estimators=7, min_samples_split=300, max_leaf_nodes=7, max_depth=6, score=0.521, total=   0.1s\n",
      "[CV] n_estimators=7, min_samples_split=300, max_leaf_nodes=7, max_depth=6 \n",
      "[CV]  n_estimators=7, min_samples_split=300, max_leaf_nodes=7, max_depth=6, score=0.488, total=   0.1s\n",
      "[CV] n_estimators=10, min_samples_split=300, max_leaf_nodes=5, max_depth=7 \n",
      "[CV]  n_estimators=10, min_samples_split=300, max_leaf_nodes=5, max_depth=7, score=0.473, total=   0.1s\n",
      "[CV] n_estimators=10, min_samples_split=300, max_leaf_nodes=5, max_depth=7 \n",
      "[CV]  n_estimators=10, min_samples_split=300, max_leaf_nodes=5, max_depth=7, score=0.417, total=   0.1s\n",
      "[CV] n_estimators=10, min_samples_split=300, max_leaf_nodes=5, max_depth=7 \n",
      "[CV]  n_estimators=10, min_samples_split=300, max_leaf_nodes=5, max_depth=7, score=0.527, total=   0.1s\n",
      "[CV] n_estimators=10, min_samples_split=300, max_leaf_nodes=5, max_depth=7 \n",
      "[CV]  n_estimators=10, min_samples_split=300, max_leaf_nodes=5, max_depth=7, score=0.505, total=   0.1s\n",
      "[CV] n_estimators=10, min_samples_split=300, max_leaf_nodes=5, max_depth=7 \n",
      "[CV]  n_estimators=10, min_samples_split=300, max_leaf_nodes=5, max_depth=7, score=0.476, total=   0.1s\n",
      "[CV] n_estimators=10, min_samples_split=300, max_leaf_nodes=4, max_depth=5 \n",
      "[CV]  n_estimators=10, min_samples_split=300, max_leaf_nodes=4, max_depth=5, score=0.461, total=   0.1s\n",
      "[CV] n_estimators=10, min_samples_split=300, max_leaf_nodes=4, max_depth=5 \n",
      "[CV]  n_estimators=10, min_samples_split=300, max_leaf_nodes=4, max_depth=5, score=0.402, total=   0.1s\n",
      "[CV] n_estimators=10, min_samples_split=300, max_leaf_nodes=4, max_depth=5 \n",
      "[CV]  n_estimators=10, min_samples_split=300, max_leaf_nodes=4, max_depth=5, score=0.513, total=   0.1s\n",
      "[CV] n_estimators=10, min_samples_split=300, max_leaf_nodes=4, max_depth=5 \n",
      "[CV]  n_estimators=10, min_samples_split=300, max_leaf_nodes=4, max_depth=5, score=0.491, total=   0.1s\n",
      "[CV] n_estimators=10, min_samples_split=300, max_leaf_nodes=4, max_depth=5 \n",
      "[CV]  n_estimators=10, min_samples_split=300, max_leaf_nodes=4, max_depth=5, score=0.461, total=   0.1s\n",
      "[CV] n_estimators=10, min_samples_split=100, max_leaf_nodes=6, max_depth=6 \n",
      "[CV]  n_estimators=10, min_samples_split=100, max_leaf_nodes=6, max_depth=6, score=0.481, total=   0.1s\n",
      "[CV] n_estimators=10, min_samples_split=100, max_leaf_nodes=6, max_depth=6 \n",
      "[CV]  n_estimators=10, min_samples_split=100, max_leaf_nodes=6, max_depth=6, score=0.427, total=   0.1s\n",
      "[CV] n_estimators=10, min_samples_split=100, max_leaf_nodes=6, max_depth=6 \n",
      "[CV]  n_estimators=10, min_samples_split=100, max_leaf_nodes=6, max_depth=6, score=0.536, total=   0.1s\n",
      "[CV] n_estimators=10, min_samples_split=100, max_leaf_nodes=6, max_depth=6 \n",
      "[CV]  n_estimators=10, min_samples_split=100, max_leaf_nodes=6, max_depth=6, score=0.512, total=   0.1s\n",
      "[CV] n_estimators=10, min_samples_split=100, max_leaf_nodes=6, max_depth=6 \n",
      "[CV]  n_estimators=10, min_samples_split=100, max_leaf_nodes=6, max_depth=6, score=0.486, total=   0.1s\n",
      "[CV] n_estimators=9, min_samples_split=100, max_leaf_nodes=6, max_depth=7 \n",
      "[CV]  n_estimators=9, min_samples_split=100, max_leaf_nodes=6, max_depth=7, score=0.480, total=   0.1s\n",
      "[CV] n_estimators=9, min_samples_split=100, max_leaf_nodes=6, max_depth=7 \n",
      "[CV]  n_estimators=9, min_samples_split=100, max_leaf_nodes=6, max_depth=7, score=0.428, total=   0.1s\n",
      "[CV] n_estimators=9, min_samples_split=100, max_leaf_nodes=6, max_depth=7 \n",
      "[CV]  n_estimators=9, min_samples_split=100, max_leaf_nodes=6, max_depth=7, score=0.536, total=   0.1s\n",
      "[CV] n_estimators=9, min_samples_split=100, max_leaf_nodes=6, max_depth=7 \n",
      "[CV]  n_estimators=9, min_samples_split=100, max_leaf_nodes=6, max_depth=7, score=0.513, total=   0.1s\n",
      "[CV] n_estimators=9, min_samples_split=100, max_leaf_nodes=6, max_depth=7 \n",
      "[CV]  n_estimators=9, min_samples_split=100, max_leaf_nodes=6, max_depth=7, score=0.486, total=   0.1s\n",
      "[CV] n_estimators=8, min_samples_split=100, max_leaf_nodes=4, max_depth=6 \n",
      "[CV]  n_estimators=8, min_samples_split=100, max_leaf_nodes=4, max_depth=6, score=0.461, total=   0.1s\n",
      "[CV] n_estimators=8, min_samples_split=100, max_leaf_nodes=4, max_depth=6 \n",
      "[CV]  n_estimators=8, min_samples_split=100, max_leaf_nodes=4, max_depth=6, score=0.401, total=   0.1s\n",
      "[CV] n_estimators=8, min_samples_split=100, max_leaf_nodes=4, max_depth=6 \n",
      "[CV]  n_estimators=8, min_samples_split=100, max_leaf_nodes=4, max_depth=6, score=0.513, total=   0.1s\n",
      "[CV] n_estimators=8, min_samples_split=100, max_leaf_nodes=4, max_depth=6 \n",
      "[CV]  n_estimators=8, min_samples_split=100, max_leaf_nodes=4, max_depth=6, score=0.491, total=   0.1s\n",
      "[CV] n_estimators=8, min_samples_split=100, max_leaf_nodes=4, max_depth=6 \n",
      "[CV]  n_estimators=8, min_samples_split=100, max_leaf_nodes=4, max_depth=6, score=0.461, total=   0.1s\n",
      "[CV] n_estimators=8, min_samples_split=200, max_leaf_nodes=7, max_depth=7 \n",
      "[CV]  n_estimators=8, min_samples_split=200, max_leaf_nodes=7, max_depth=7, score=0.486, total=   0.1s\n",
      "[CV] n_estimators=8, min_samples_split=200, max_leaf_nodes=7, max_depth=7 \n",
      "[CV]  n_estimators=8, min_samples_split=200, max_leaf_nodes=7, max_depth=7, score=0.435, total=   0.1s\n",
      "[CV] n_estimators=8, min_samples_split=200, max_leaf_nodes=7, max_depth=7 \n",
      "[CV]  n_estimators=8, min_samples_split=200, max_leaf_nodes=7, max_depth=7, score=0.542, total=   0.1s\n",
      "[CV] n_estimators=8, min_samples_split=200, max_leaf_nodes=7, max_depth=7 \n",
      "[CV]  n_estimators=8, min_samples_split=200, max_leaf_nodes=7, max_depth=7, score=0.521, total=   0.1s\n",
      "[CV] n_estimators=8, min_samples_split=200, max_leaf_nodes=7, max_depth=7 \n",
      "[CV]  n_estimators=8, min_samples_split=200, max_leaf_nodes=7, max_depth=7, score=0.488, total=   0.1s\n",
      "[CV] n_estimators=8, min_samples_split=300, max_leaf_nodes=7, max_depth=6 \n",
      "[CV]  n_estimators=8, min_samples_split=300, max_leaf_nodes=7, max_depth=6, score=0.486, total=   0.1s\n",
      "[CV] n_estimators=8, min_samples_split=300, max_leaf_nodes=7, max_depth=6 \n",
      "[CV]  n_estimators=8, min_samples_split=300, max_leaf_nodes=7, max_depth=6, score=0.435, total=   0.1s\n",
      "[CV] n_estimators=8, min_samples_split=300, max_leaf_nodes=7, max_depth=6 \n",
      "[CV]  n_estimators=8, min_samples_split=300, max_leaf_nodes=7, max_depth=6, score=0.542, total=   0.1s\n",
      "[CV] n_estimators=8, min_samples_split=300, max_leaf_nodes=7, max_depth=6 \n",
      "[CV]  n_estimators=8, min_samples_split=300, max_leaf_nodes=7, max_depth=6, score=0.521, total=   0.1s\n",
      "[CV] n_estimators=8, min_samples_split=300, max_leaf_nodes=7, max_depth=6 \n"
     ]
    },
    {
     "name": "stdout",
     "output_type": "stream",
     "text": [
      "[CV]  n_estimators=8, min_samples_split=300, max_leaf_nodes=7, max_depth=6, score=0.488, total=   0.1s\n"
     ]
    },
    {
     "name": "stderr",
     "output_type": "stream",
     "text": [
      "[Parallel(n_jobs=1)]: Done  50 out of  50 | elapsed:    6.3s finished\n"
     ]
    }
   ],
   "source": [
    "from sklearn.ensemble import RandomForestRegressor\n",
    "from sklearn.model_selection import RandomizedSearchCV\n",
    "grid_param = {'n_estimators': [7,8,9,10,12,15], 'max_depth':  [5,6,7], \\\n",
    "              'min_samples_split': [100,200,300], 'max_leaf_nodes': [4,5,6,7]}\n",
    "regr = RandomForestRegressor(random_state=0)\n",
    "regr_hypertuned = RandomizedSearchCV(estimator = regr, param_distributions = grid_param, cv=5, verbose = 3, random_state= 42 )\n",
    "regr_hypertuned.fit(x_train, y_train)\n",
    "\n",
    "pred = regr_hypertuned.predict(x_test) #make prediction on test set\n",
    "\n",
    "error = sqrt(mean_squared_error(y_test, pred)) #calculate rmse\n",
    "\n",
    "mae = round(mean_absolute_error(y_test, pred))\n"
   ]
  },
  {
   "cell_type": "code",
   "execution_count": 5,
   "metadata": {},
   "outputs": [
    {
     "data": {
      "text/plain": [
       "{'n_estimators': 10,\n",
       " 'min_samples_split': 100,\n",
       " 'max_leaf_nodes': 7,\n",
       " 'max_depth': 7}"
      ]
     },
     "execution_count": 5,
     "metadata": {},
     "output_type": "execute_result"
    }
   ],
   "source": [
    "regr_hypertuned.best_params_"
   ]
  },
  {
   "cell_type": "code",
   "execution_count": 6,
   "metadata": {},
   "outputs": [
    {
     "name": "stdout",
     "output_type": "stream",
     "text": [
      "RMSE value is: 0.9388413541191919\n",
      "Mean Absolute Error is: 1.0\n"
     ]
    }
   ],
   "source": [
    "print('RMSE value is:', error)\n",
    "print('Mean Absolute Error is:',mae)"
   ]
  },
  {
   "cell_type": "markdown",
   "metadata": {},
   "source": [
    "### K-Nearest Neighbor Regressor Model"
   ]
  },
  {
   "cell_type": "code",
   "execution_count": 7,
   "metadata": {},
   "outputs": [
    {
     "name": "stdout",
     "output_type": "stream",
     "text": [
      "RMSE value for k= 20 is: 0.9408628954728188\n",
      "Mean Absolute Error for k= 20 is: 1.0\n",
      "RMSE value for k= 25 is: 0.9396687116374591\n",
      "Mean Absolute Error for k= 25 is: 1.0\n",
      "RMSE value for k= 30 is: 0.9387782944904114\n",
      "Mean Absolute Error for k= 30 is: 1.0\n"
     ]
    }
   ],
   "source": [
    "from sklearn import neighbors\n",
    "from sklearn.metrics import mean_squared_error \n",
    "from math import sqrt\n",
    "\n",
    "K_list = [20,25,30]\n",
    "for i in range(len(K_list)):\n",
    "    model = neighbors.KNeighborsRegressor(n_neighbors = K_list[i])\n",
    "    model.fit(x_train, y_train)  #fit the model\n",
    "    pred = model.predict(x_test) #make prediction on test set\n",
    "\n",
    "    error = sqrt(mean_squared_error(y_test, pred)) #calculate rmse\n",
    "    print('RMSE value for k=' , K_list[i] , 'is:', error)\n",
    "    mae = round(mean_absolute_error(y_test, pred))\n",
    "    print('Mean Absolute Error for k=' , K_list[i], 'is:',mae)"
   ]
  },
  {
   "cell_type": "markdown",
   "metadata": {},
   "source": [
    "## Best Performance is with the Randomforest Model\n",
    "### RMSE value for is: 0.937\n",
    "### Mean Absolute Error: 1.0"
   ]
  },
  {
   "cell_type": "code",
   "execution_count": 8,
   "metadata": {},
   "outputs": [],
   "source": [
    "# Storing the model in pickle file\n",
    "import pickle\n",
    "\n",
    "pkl_filename = \"hybrid_collaborative-item_content.pkl\"\n",
    "with open(pkl_filename, 'wb') as file:\n",
    "    pickle.dump(regr_hypertuned, file)"
   ]
  },
  {
   "cell_type": "code",
   "execution_count": 9,
   "metadata": {},
   "outputs": [],
   "source": [
    "with open('hybrid_collaborative-item_content.pkl', 'rb') as file:\n",
    "    pickle_model = pickle.load(file)\n",
    "    \n",
    "\n",
    "Ypredict = pickle_model.predict(x_test)"
   ]
  }
 ],
 "metadata": {
  "kernelspec": {
   "display_name": "Python 3",
   "language": "python",
   "name": "python3"
  },
  "language_info": {
   "codemirror_mode": {
    "name": "ipython",
    "version": 3
   },
   "file_extension": ".py",
   "mimetype": "text/x-python",
   "name": "python",
   "nbconvert_exporter": "python",
   "pygments_lexer": "ipython3",
   "version": "3.8.8"
  }
 },
 "nbformat": 4,
 "nbformat_minor": 4
}
